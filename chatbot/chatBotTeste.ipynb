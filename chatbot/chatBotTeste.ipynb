{
 "cells": [
  {
   "cell_type": "code",
   "execution_count": 11,
   "metadata": {},
   "outputs": [],
   "source": [
    "import json\n",
    "\n",
    "from chatterbot import ChatBot\n",
    "from chatterbot.trainers import ListTrainer\n",
    "\n",
    "import time\n",
    "time.clock = time.time"
   ]
  },
  {
   "cell_type": "code",
   "execution_count": 30,
   "metadata": {},
   "outputs": [
    {
     "name": "stdout",
     "output_type": "stream",
     "text": [
      "['Ola, como vai?', 'Vou muito bem', 'Eae, tranquilo?', 'Vou muito bem', 'So de boa?', 'Vou muito bem', 'Bom dia', 'Bom dia com muita alegria']\n"
     ]
    }
   ],
   "source": [
    "data = json.loads(open('../input/chatBot.json', 'r').read())\n",
    "\n",
    "sentimento = 'alegria'\n",
    "train = []\n",
    "\n",
    "for row in data:\n",
    "    for i in range(len(row['question'])):\n",
    "        train.append(row['question'][i])\n",
    "\n",
    "        if sentimento == 'alegria':\n",
    "            train.append(row[\"resposta\"]['alegria'])\n",
    "\n",
    "        if sentimento == 'tristeza':\n",
    "            train.append(row[\"resposta\"]['tristeza'])\n",
    "\n",
    "        if sentimento == 'raiva':\n",
    "            train.append(row[\"resposta\"]['raiva'])\n",
    "\n",
    "        if sentimento == 'neutro':\n",
    "            train.append(row[\"resposta\"]['neutro'])\n",
    "\n",
    "print(train)"
   ]
  },
  {
   "cell_type": "code",
   "execution_count": 29,
   "metadata": {},
   "outputs": [
    {
     "name": "stdout",
     "output_type": "stream",
     "text": [
      "List Trainer: [####################] 100%\n"
     ]
    },
    {
     "name": "stderr",
     "output_type": "stream",
     "text": [
      "[nltk_data] Downloading package averaged_perceptron_tagger to\n",
      "[nltk_data]     C:\\Users\\ti.joao\\AppData\\Roaming\\nltk_data...\n",
      "[nltk_data]   Package averaged_perceptron_tagger is already up-to-\n",
      "[nltk_data]       date!\n",
      "[nltk_data] Downloading package punkt to\n",
      "[nltk_data]     C:\\Users\\ti.joao\\AppData\\Roaming\\nltk_data...\n",
      "[nltk_data]   Package punkt is already up-to-date!\n",
      "[nltk_data] Downloading package stopwords to\n",
      "[nltk_data]     C:\\Users\\ti.joao\\AppData\\Roaming\\nltk_data...\n",
      "[nltk_data]   Package stopwords is already up-to-date!\n"
     ]
    }
   ],
   "source": [
    "chatbot = ChatBot('Bacaxinho')\n",
    "trainer = ListTrainer(chatbot)\n",
    "trainer.train(train)"
   ]
  },
  {
   "cell_type": "code",
   "execution_count": null,
   "metadata": {},
   "outputs": [
    {
     "name": "stdout",
     "output_type": "stream",
     "text": [
      "Eu: bom dia\n",
      "Bacaxinho:  So se for pra vc\n",
      "Eu: bom dia\n",
      "Bacaxinho:  So se for pra vc\n",
      "Eu: bom dia\n",
      "Bacaxinho:  Bom dia com muita alegria\n",
      "Eu: ola, como vai?\n",
      "Bacaxinho:  Nao fique bravo\n",
      "Eu: ola, como vai\n",
      "Bacaxinho:  Nao fique bravo\n",
      "Eu: ola como vai\n",
      "Bacaxinho:  Nao fique bravo\n",
      "Eu: ola, como vai\n",
      "Bacaxinho:  Vou muito bem\n",
      "Eu: ola, como vai\n",
      "Bacaxinho:  Vou muito bem\n"
     ]
    }
   ],
   "source": [
    "while True:\n",
    "    mensagem = input(\"Mande uma msg pro bot:\")\n",
    "    if mensagem == \"parar\":\n",
    "        break\n",
    "\n",
    "    if mensagem == \"\":\n",
    "        resposta = 'Não entendi oq vc falou'\n",
    "        \n",
    "    resposta = chatbot.get_response(mensagem)\n",
    "    print('Eu:', mensagem)\n",
    "    print('Bacaxinho: ', resposta)"
   ]
  }
 ],
 "metadata": {
  "kernelspec": {
   "display_name": "assistenteVirtual",
   "language": "python",
   "name": "python3"
  },
  "language_info": {
   "codemirror_mode": {
    "name": "ipython",
    "version": 3
   },
   "file_extension": ".py",
   "mimetype": "text/x-python",
   "name": "python",
   "nbconvert_exporter": "python",
   "pygments_lexer": "ipython3",
   "version": "3.10.10"
  },
  "orig_nbformat": 4
 },
 "nbformat": 4,
 "nbformat_minor": 2
}
